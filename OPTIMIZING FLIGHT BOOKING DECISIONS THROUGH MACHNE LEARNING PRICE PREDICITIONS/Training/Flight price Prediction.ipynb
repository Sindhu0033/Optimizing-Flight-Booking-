{
 "cells": [
  {
   "cell_type": "code",
   "execution_count": null,
   "id": "b4be7fda",
   "metadata": {},
   "outputs": [],
   "source": [
    "import pandas as pd\n",
    "import numpy as np\n",
    "import seaborn as sns\n",
    "import matplotlib.pyplot as plt\n",
    "\n",
    "from sklearn.feature_selection import mutual_info_regression\n",
    "from sklearn.model_selection import train_test_split, GridSearchCV, cross_val_score\n",
    "from sklearn.metrics import mean_absolute_error, r2_score\n",
    "\n",
    "from sklearn.cluster import KMeans\n",
    "\n",
    "from sklearn.linear_model import LinearRegression\n",
    "from xgboost import XGBRegressor\n",
    "from sklearn.neighbors import KNeighborsRegressor\n",
    "from sklearn.preprocessing import OneHotEncoder\n",
    "\n",
    "from catboost import CatBoostRegressor\n",
    "\n",
    "from scipy import stats\n",
    "\n",
    "sns.set_style(\"whitegrid\")"
   ]
  },
  {
   "cell_type": "code",
   "execution_count": null,
   "id": "683ff9f6",
   "metadata": {},
   "outputs": [],
   "source": [
    "df = pd.read_csv(\"https://raw.githubusercontent.com/julienjta/Data-Science-Portfolio/main/Project%201/data/dataset.csv\",index_col=0)\n",
    "print(\"There are {} observations for {} predictors.\".format(df.shape[0],df.shape[1]))\n",
    "df.head()"
   ]
  },
  {
   "cell_type": "code",
   "execution_count": null,
   "id": "c8eaebb9",
   "metadata": {},
   "outputs": [],
   "source": [
    "df.isnull().sum()\n"
   ]
  },
  {
   "cell_type": "code",
   "execution_count": null,
   "id": "9606aba0",
   "metadata": {},
   "outputs": [],
   "source": [
    "df.describe(include='all')\n"
   ]
  },
  {
   "cell_type": "code",
   "execution_count": null,
   "id": "ef95e1fe",
   "metadata": {},
   "outputs": [],
   "source": [
    "plt.figure(figsize = (18,5))\n",
    "plt.subplot(1,2,2)\n",
    "sns.histplot(x = 'price', data = df, kde = True)\n",
    "plt.subplot(1,2,1)\n",
    "sns.boxplot(x = 'price', data = df)"
   ]
  },
  {
   "cell_type": "code",
   "execution_count": null,
   "id": "fcb663dc",
   "metadata": {},
   "outputs": [],
   "source": [
    "plt.figure(figsize=(20, 10))\n",
    "sns.barplot(x='airline',y='price',hue=\"class\",data=df.sort_values(\"price\")).set_title('Airline prices based on the class and company',fontsize=20)"
   ]
  },
  {
   "cell_type": "code",
   "execution_count": null,
   "id": "e345612a",
   "metadata": {},
   "outputs": [],
   "source": [
    "fig, axs = plt.subplots (1, 2, gridspec_kw={'width_ratios': [5, 3]}, figsize=(25, 5))\n",
    "sns.violinplot(y = \"price\", x = \"airline\",data = df.loc[df[\"class\"]=='Economy'].sort_values(\"price\", ascending = False), kind=\"boxen\", ax=axs[0])\n",
    "axs[0].set_title(\"Airline prices based on companies for economy tickets\",fontsize=20)\n",
    "sns.violinplot(y = \"price\", x = \"airline\",data = df.loc[df[\"class\"]=='Business'].sort_values(\"price\", ascending = False), kind=\"boxen\", ax=axs[1])\n",
    "axs[1].set_title(\"Airline prices based on companies for business tickets\",fontsize=20)\n"
   ]
  },
  {
   "cell_type": "code",
   "execution_count": null,
   "id": "4f276d7a",
   "metadata": {},
   "outputs": [],
   "source": [
    "df_temp = df.groupby(['days_left'])['price'].mean().reset_index()\n",
    "\n",
    "plt.figure(figsize=(15,6))\n",
    "ax = sns.scatterplot(x=\"days_left\", y=\"price\", data=df_temp).set_title(\"Average prizes depending on the days left\",fontsize=15)"
   ]
  },
  {
   "cell_type": "code",
   "execution_count": null,
   "id": "68cdbb1c",
   "metadata": {},
   "outputs": [],
   "source": [
    "plt.figure(figsize=(15,6)).suptitle('Airline prices based on days left before buying the ticket', fontsize=16)\n",
    "ax = plt.axes()\n",
    "sns.regplot(x=df_temp.loc[df_temp[\"days_left\"]==1].days_left, y=df_temp.loc[df_temp[\"days_left\"]==1].price, fit_reg=False, ax=ax)\n",
    "sns.regplot(x=df_temp.loc[(df_temp[\"days_left\"]>1)&(df_temp[\"days_left\"]<20)].days_left, y=df_temp.loc[(df_temp[\"days_left\"]>1)&(df_temp[\"days_left\"]<20)].price, fit_reg=True, ax=ax)\n",
    "sns.regplot(x=df_temp.loc[df_temp[\"days_left\"]>=20].days_left, y=df_temp.loc[df_temp[\"days_left\"]>=20].price, fit_reg=True, ax=ax)"
   ]
  },
  {
   "cell_type": "code",
   "execution_count": null,
   "id": "f1d2c621",
   "metadata": {},
   "outputs": [],
   "source": [
    "df_temp = df.groupby(['duration'])['price'].mean().reset_index()\n",
    "\n",
    "plt.figure(figsize=(15,6))\n",
    "ax = sns.scatterplot(x=\"duration\", y=\"price\", data=df_temp).set_title(\"Average prizes depending on the duration\",fontsize=15)"
   ]
  },
  {
   "cell_type": "code",
   "execution_count": null,
   "id": "eca9b05d",
   "metadata": {},
   "outputs": [],
   "source": [
    "plt.figure(figsize=(15,6))\n",
    "ax = sns.scatterplot(x=\"duration\", y=\"price\", data=df_temp).set_title(\"Average prizes depending on the duration\",fontsize=15)\n",
    "ax = sns.regplot(x=\"duration\", y=\"price\", data=df_temp, order=2)"
   ]
  },
  {
   "cell_type": "code",
   "execution_count": null,
   "id": "83e61cd0",
   "metadata": {},
   "outputs": [],
   "source": [
    "plt.figure(figsize = (18,5))\n",
    "plt.subplot(1,2,1)\n",
    "sns.boxplot(data=df, y=\"price\", x=\"departure_time\",showfliers=False).set_title(\"Airline prices based on the departure time\",fontsize=15)\n",
    "plt.subplot(1,2,2)\n",
    "sns.boxplot(data=df, y=\"price\", x=\"arrival_time\",showfliers=False).set_title(\"Airline prices based on the arrival time\",fontsize=15)"
   ]
  },
  {
   "cell_type": "code",
   "execution_count": null,
   "id": "97536122",
   "metadata": {},
   "outputs": [],
   "source": [
    "ax = sns.relplot(col=\"source_city\", y=\"price\", kind=\"line\",x='destination_city', data=df, col_wrap=3)\n",
    "ax.fig.subplots_adjust(top=0.9) # adjust the Figure in rp\n",
    "ax.fig.suptitle('Airline prices based on the source and destination cities',fontsize=20)"
   ]
  },
  {
   "cell_type": "code",
   "execution_count": null,
   "id": "360e28ca",
   "metadata": {},
   "outputs": [],
   "source": [
    "fig, axs = plt.subplots (1, 2, gridspec_kw={'width_ratios': [5, 3]}, figsize=(25, 5))\n",
    "sns.barplot(y = \"price\", x = \"airline\",hue=\"stops\",data = df.loc[df[\"class\"]=='Economy'].sort_values(\"price\", ascending = False), ax=axs[0])\n",
    "axs[0].set_title(\"Airline prices based on the number of stops  for economy\",fontsize=20)\n",
    "sns.barplot(y = \"price\", x = \"airline\",hue=\"stops\",data = df.loc[df[\"class\"]=='Business'].sort_values(\"price\", ascending = False), ax=axs[1])\n",
    "axs[1].set_title(\"Airline prices based on the number of stops  for business\",fontsize=20)"
   ]
  },
  {
   "cell_type": "code",
   "execution_count": null,
   "id": "62f91513",
   "metadata": {},
   "outputs": [],
   "source": [
    "def preprocessing(df):\n",
    "    #Encode the ordinal variables \"stops\" and \"class\".\n",
    "    df[\"stops\"] = df[\"stops\"].replace({'zero':0,'one':1,'two_or_more':2}).astype(int)\n",
    "    df[\"class\"] = df[\"class\"].replace({'Economy':0,'Business':1}).astype(int)\n",
    "    \n",
    "    #Create the dummy variables for the cities, the times and the airlines.\n",
    "    dummies_variables = [\"airline\",\"source_city\",\"destination_city\",\"departure_time\",\"arrival_time\"]\n",
    "    dummies = pd.get_dummies(df[dummies_variables], drop_first= True)\n",
    "    df = pd.concat([df,dummies],axis=1)\n",
    "    \n",
    "    #Create the dummy variables for the cities, the times and the airlines.\n",
    "    df = df.drop([\"flight\",\"airline\",\"source_city\",\"destination_city\",\"departure_time\",\"arrival_time\"],axis=1)\n",
    "    \n",
    "    return df"
   ]
  },
  {
   "cell_type": "code",
   "execution_count": null,
   "id": "0026ffad",
   "metadata": {},
   "outputs": [],
   "source": [
    "df_preprocessed = preprocessing(df)"
   ]
  },
  {
   "cell_type": "code",
   "execution_count": null,
   "id": "9fc859f0",
   "metadata": {},
   "outputs": [],
   "source": [
    "mask = np.triu(np.ones_like(df_preprocessed.corr(), dtype=bool))\n",
    "\n",
    "plt.figure(figsize = (20,18))\n",
    "sns.heatmap(df_preprocessed.corr(), data = df_preprocessed, mask=mask,annot = True, vmin= -1.0, vmax= 1.0, center = 0, cmap = 'RdBu_r')"
   ]
  },
  {
   "cell_type": "code",
   "execution_count": null,
   "id": "6104bfac",
   "metadata": {},
   "outputs": [],
   "source": [
    "def make_mi_scores(X, y):\n",
    "    X = X.copy()\n",
    "    for colname in X.select_dtypes([\"object\", \"category\"]):\n",
    "        X[colname], _ = X[colname].factorize()\n",
    "    # All discrete features should now have integer dtypes\n",
    "    discrete_features = [pd.api.types.is_integer_dtype(t) for t in X.dtypes]\n",
    "    mi_scores = mutual_info_regression(X, y, discrete_features=discrete_features, random_state=0)\n",
    "    mi_scores = pd.Series(mi_scores, name=\"MI Scores\", index=X.columns)\n",
    "    mi_scores = mi_scores.sort_values(ascending=False)\n",
    "    return mi_scores"
   ]
  },
  {
   "cell_type": "code",
   "execution_count": null,
   "id": "355190a1",
   "metadata": {},
   "outputs": [],
   "source": [
    "X = df_preprocessed.copy()\n",
    "y = X.pop(\"price\")\n",
    "\n",
    "mi_scores = make_mi_scores(X, y)"
   ]
  },
  {
   "cell_type": "code",
   "execution_count": null,
   "id": "74011e39",
   "metadata": {},
   "outputs": [],
   "source": [
    "print(mi_scores.sort_values(ascending=False))"
   ]
  },
  {
   "cell_type": "code",
   "execution_count": null,
   "id": "cbe2ac27",
   "metadata": {},
   "outputs": [],
   "source": [
    "def load_data():\n",
    "    # Read data\n",
    "    df = pd.read_csv(\"https://raw.githubusercontent.com/julienjta/Data-Science-Portfolio/main/Project%201/data/dataset.csv\",index_col=0)\n",
    "    # Preprocessing the data\n",
    "    \n",
    "    df = preprocessing(df)\n",
    "    \n",
    "    X = df.copy()\n",
    "    y = X.pop(\"price\")\n",
    "    \n",
    "    xtrain,xtest,ytrain,ytest = train_test_split(X,y,random_state = 1,test_size=0.3, shuffle=True)\n",
    "    \n",
    "    return xtrain,xtest,ytrain,ytest"
   ]
  },
  {
   "cell_type": "code",
   "execution_count": null,
   "id": "4e3dbb47",
   "metadata": {},
   "outputs": [],
   "source": [
    "xtrain,xtest,ytrain,ytest = load_data()"
   ]
  },
  {
   "cell_type": "code",
   "execution_count": null,
   "id": "3aa24a55",
   "metadata": {},
   "outputs": [],
   "source": [
    "models = {}\n",
    "\n",
    "models[\"KNeighborsRegressor\"]={\"model\":KNeighborsRegressor(n_neighbors=50)}\n",
    "models[\"LinearRegression\"]={\"model\":LinearRegression()}\n",
    "models[\"XGBRegressor\"]={\"model\":XGBRegressor(n_jobs=5,learning_rate=0.1,max_depth=10,random_state=1)}\n",
    "models[\"CatBoostRegressor\"]={\"model\":CatBoostRegressor(logging_level ='Silent',iterations=500,random_state=1)}"
   ]
  },
  {
   "cell_type": "code",
   "execution_count": null,
   "id": "6121a59e",
   "metadata": {},
   "outputs": [],
   "source": [
    "def score_dataset(X, y, model=XGBRegressor()):\n",
    "    for colname in X.select_dtypes([\"category\"]):\n",
    "        X[colname] = X[colname].cat.codes\n",
    "    \n",
    "    score_r2 = cross_val_score(model, X, y, cv=5, scoring=\"r2\")\n",
    "    score_r2 = score_r2.mean()\n",
    "    \n",
    "    return score_r2"
   ]
  },
  {
   "cell_type": "code",
   "execution_count": null,
   "id": "08ad9e66",
   "metadata": {},
   "outputs": [],
   "source": [
    " def get_scores(models,xtrain,ytrain):\n",
    "    for name,model in models.items():\n",
    "        model[\"model\"].fit(xtrain,ytrain)\n",
    "\n",
    "        score_r2 = score_dataset(xtrain, ytrain, model=model[\"model\"])\n",
    "        score = {'model':\"Linear regression\", 'score_r2':score_r2}\n",
    "        print(\"--- \"+name+\" ---\")\n",
    "        print(\"Score r2: {}\".format(score_r2))\n",
    "        print(\"\\n\")"
   ]
  },
  {
   "cell_type": "code",
   "execution_count": null,
   "id": "345a1861",
   "metadata": {},
   "outputs": [],
   "source": [
    "get_scores(models,xtrain,ytrain)"
   ]
  },
  {
   "cell_type": "code",
   "execution_count": null,
   "id": "009eec9a",
   "metadata": {},
   "outputs": [],
   "source": [
    "model = models[\"XGBRegressor\"][\"model\"]\n",
    "model.fit(xtrain,ytrain)\n",
    "ypred = model.predict(xtest)"
   ]
  },
  {
   "cell_type": "code",
   "execution_count": null,
   "id": "93ca2d28",
   "metadata": {},
   "outputs": [],
   "source": [
    "model = models[\"XGBRegressor\"][\"model\"]\n",
    "model.fit(xtrain,ytrain)\n",
    "ypred = model.predict(xtest)"
   ]
  },
  {
   "cell_type": "code",
   "execution_count": null,
   "id": "39778b6c",
   "metadata": {},
   "outputs": [],
   "source": [
    "def stackblend_reg(x_train,y_train,x_test,models,code,N=20,final_layer=LinearRegression()):\n",
    "    \n",
    "    def get_dataset(x_train,y_train,N=5) :\n",
    "        merge = pd.concat([x_train,y_train],axis=1)\n",
    "        merge = merge.sample(frac=1, random_state=1).reset_index(drop=True)\n",
    "        y_train = merge.iloc[:,(merge.shape[1]-1):(merge.shape[1])]\n",
    "        x_train = merge.iloc[:,0:(merge.shape[1]-1)]\n",
    "\n",
    "        z = int(len(x_train)/N)\n",
    "        start = [0]\n",
    "        stop = []\n",
    "        for i in range(1,N):\n",
    "            start.append(z*i)\n",
    "            stop.append(z*i)\n",
    "        stop.append(len(x_train))\n",
    "\n",
    "        c = list()\n",
    "        train_data = list()\n",
    "        test_data = list()\n",
    "        y_data = list()\n",
    "        for i in range(0,N):\n",
    "            c=list(range(start[i],stop[i]))\n",
    "            train_data.append(x_train.iloc[[k for k in range(0,len(x_train)) if k not in c],:])\n",
    "            y_data.append(y_train.iloc[[k for k in range(0,len(y_train)) if k not in c],:])\n",
    "            test_data.append(x_train.iloc[c,:])\n",
    "\n",
    "        return(train_data,y_data,test_data,y_train)\n",
    "    \n",
    "    datasets = get_dataset(x_train,y_train,N)\n",
    "    train_data = datasets[0]\n",
    "    y_data = datasets[1]\n",
    "    test_data = datasets[2]\n",
    "    final_y =  datasets[3]\n",
    "    \n",
    "    def stack(x_train, y_train , x_test , models=models,code=code):\n",
    "    \n",
    "        def flatten_list(_2d_list):\n",
    "            flat_list = []\n",
    "            for element in _2d_list:\n",
    "                if type(element) is list:\n",
    "                    for item in element:\n",
    "                        flat_list.append(item)\n",
    "                else:\n",
    "                    flat_list.append(element)\n",
    "            return flat_list\n",
    "\n",
    "        result = list()\n",
    "        for i in list(range(len(models))):\n",
    "            reg = models[i]\n",
    "            reg.fit(x_train,y_train)\n",
    "            test_pred = flatten_list(reg.predict(x_test).tolist())\n",
    "            result.append(test_pred)\n",
    "\n",
    "        result_df = pd.DataFrame()    \n",
    "        for i in list(range(len(code))):\n",
    "            result_df[code[i]] = result[i]\n",
    "        return result_df\n",
    "    final_df = pd.DataFrame(columns = code)\n",
    "    \n",
    "    for i in range(0,len(train_data)):\n",
    "        current_df = stack(train_data[i],y_data[i],test_data[i],models,code)\n",
    "        final_df = pd.concat([final_df,current_df])\n",
    "        \n",
    "    final_test = stack(x_train,y_train,x_test,models,code)\n",
    "    \n",
    "    reg2 = final_layer\n",
    "    reg2.fit(final_df,final_y)\n",
    "    test_pred = reg2.predict(final_test)\n",
    "    \n",
    "    return test_pred"
   ]
  },
  {
   "cell_type": "code",
   "execution_count": null,
   "id": "97495757",
   "metadata": {},
   "outputs": [],
   "source": [
    "stack_pred = stackblend_reg(xtrain,ytrain,xtest,\n",
    "                            models = [XGBRegressor(n_jobs=5,learning_rate=0.1,max_depth=10,random_state=1),\n",
    "                                      LinearRegression(),\n",
    "                                    KNeighborsRegressor(n_neighbors=50),\n",
    "                                     CatBoostRegressor(logging_level ='Silent',iterations=500,random_state=1)],\n",
    "                            code = ['xgb_reg','lin_reg','knn_reg','cat_reg'],N=10,\n",
    "                            final_layer=XGBRegressor(n_jobs=5,learning_rate=0.1,max_depth=10,random_state=1))\n"
   ]
  },
  {
   "cell_type": "code",
   "execution_count": null,
   "id": "1f765d01",
   "metadata": {},
   "outputs": [],
   "source": [
    "score_r2 = r2_score(ytest, stack_pred) \n",
    "score_mae = mean_absolute_error(ytest, stack_pred)\n",
    "fig,ax = plt.subplots(figsize=(15,15))\n",
    "ax.set_title(\"price\",fontsize=20)\n",
    "ax.set_ylabel('Test Predicted price',fontsize=12)\n",
    "ax.set_xlabel('Test Actual price',fontsize=12)\n",
    "ax.scatter(ytest,stack_pred)\n",
    "\n",
    "score_r2 = r2_score(ytest, stack_pred) \n",
    "score_mae = mean_absolute_error(ytest, stack_pred)\n",
    "plt.text(70000,15000,'$ R^{2} $=' + str(round(score_r2, 4)),fontsize=20)\n",
    "plt.text(70000,10000,'MAE =' + str(round(score_mae)),fontsize=20)\n",
    "plt.show()"
   ]
  },
  {
   "cell_type": "code",
   "execution_count": null,
   "id": "0d260110",
   "metadata": {},
   "outputs": [],
   "source": [
    "print(10)"
   ]
  },
  {
   "cell_type": "code",
   "execution_count": null,
   "id": "c215478b",
   "metadata": {},
   "outputs": [],
   "source": []
  }
 ],
 "metadata": {
  "kernelspec": {
   "display_name": "Python 3 (ipykernel)",
   "language": "python",
   "name": "python3"
  },
  "language_info": {
   "codemirror_mode": {
    "name": "ipython",
    "version": 3
   },
   "file_extension": ".py",
   "mimetype": "text/x-python",
   "name": "python",
   "nbconvert_exporter": "python",
   "pygments_lexer": "ipython3",
   "version": "3.10.9"
  }
 },
 "nbformat": 4,
 "nbformat_minor": 5
}
